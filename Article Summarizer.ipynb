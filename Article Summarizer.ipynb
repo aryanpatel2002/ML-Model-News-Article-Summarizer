{
 "cells": [
  {
   "cell_type": "code",
   "execution_count": 1,
   "id": "d1836b4f-6095-4631-8940-74ede01d58db",
   "metadata": {},
   "outputs": [],
   "source": [
    "import tkinter as tk\n",
    "import nltk\n",
    "from textblob import TextBlob\n",
    "from newspaper import Article"
   ]
  },
  {
   "cell_type": "code",
   "execution_count": 2,
   "id": "9634ff6d-2b40-4922-971a-602f97a0fb80",
   "metadata": {},
   "outputs": [
    {
     "name": "stderr",
     "output_type": "stream",
     "text": [
      "[nltk_data] Downloading package punkt to\n",
      "[nltk_data]     C:\\Users\\aryan\\AppData\\Roaming\\nltk_data...\n",
      "[nltk_data]   Package punkt is already up-to-date!\n"
     ]
    },
    {
     "data": {
      "text/plain": [
       "True"
      ]
     },
     "execution_count": 2,
     "metadata": {},
     "output_type": "execute_result"
    }
   ],
   "source": [
    "nltk.download('punkt')"
   ]
  },
  {
   "cell_type": "code",
   "execution_count": 3,
   "id": "48496aec-a56a-4cdc-ac3a-b40ff426f28d",
   "metadata": {},
   "outputs": [],
   "source": [
    "url = \"https://www.bbc.com/news/articles/cj4x71znwxdo\""
   ]
  },
  {
   "cell_type": "code",
   "execution_count": 4,
   "id": "8908e234-7273-46c5-995e-29a99c56704e",
   "metadata": {},
   "outputs": [],
   "source": [
    "article = Article(url)"
   ]
  },
  {
   "cell_type": "code",
   "execution_count": 5,
   "id": "20cee44f-58b1-416b-ae94-ff2debceb5d7",
   "metadata": {},
   "outputs": [],
   "source": [
    "article.download()"
   ]
  },
  {
   "cell_type": "code",
   "execution_count": 6,
   "id": "81c13713-9291-4b33-bcaf-517567260e03",
   "metadata": {},
   "outputs": [],
   "source": [
    "article.parse()"
   ]
  },
  {
   "cell_type": "code",
   "execution_count": 7,
   "id": "eb33c5e8-4cc3-4447-b22e-4d9cf90c7fc3",
   "metadata": {},
   "outputs": [],
   "source": [
    "article.nlp()"
   ]
  },
  {
   "cell_type": "code",
   "execution_count": 8,
   "id": "61d9595a-3126-4af3-a66c-e6e31d8c10dd",
   "metadata": {},
   "outputs": [
    {
     "name": "stdout",
     "output_type": "stream",
     "text": [
      "Title :  US election polls tracker 2024: Who is ahead\n",
      "Auther :  None\n",
      "Publication Date :  None\n",
      "Summary :  US election polls: Who is ahead - Harris or Trump?\n",
      "As election day approaches, we'll be keeping track of the polls and seeing what effect the campaign has on the race for the White House.\n",
      "His average had been rising ahead of the debate, but it fell by half a percentage point in the week afterwards.\n",
      "These are the places where the election will be won and lost and are known as battleground states.\n",
      "Right now, the polls are very tight in the seven states considered battlegrounds in this election with just one or two percentage points separating the candidates.\n"
     ]
    }
   ],
   "source": [
    "print('Title : ',article.title)\n",
    "print('Auther : ',article.publish_date)\n",
    "print('Publication Date : ',article.publish_date)\n",
    "print('Summary : ',article.summary)"
   ]
  },
  {
   "cell_type": "code",
   "execution_count": 9,
   "id": "e22c38c3-227b-4cf4-a985-e7b99b391da9",
   "metadata": {},
   "outputs": [
    {
     "name": "stdout",
     "output_type": "stream",
     "text": [
      "Positive\n"
     ]
    }
   ],
   "source": [
    "analysis = TextBlob(article.text)\n",
    "if analysis.polarity>0:\n",
    "    print('Positive')\n",
    "elif analysis.polarity<0:\n",
    "    print('Negative')\n",
    "else:\n",
    "    print('Neutral')"
   ]
  },
  {
   "cell_type": "code",
   "execution_count": 10,
   "id": "bf0a3452-c2ee-4d23-a18f-4b621b120430",
   "metadata": {},
   "outputs": [],
   "source": [
    "def summarize():\n",
    "    url= utext.get('1.0','end').strip()\n",
    "    article = Article(url)\n",
    "    article.download()\n",
    "    article.parse()\n",
    "    article.nlp()\n",
    "\n",
    "    title.config(state = 'normal')\n",
    "    author.config(state='normal')\n",
    "    publication.config(state = 'normal')\n",
    "    summary.config(state = 'normal')\n",
    "    sentiment.config(state = 'normal')\n",
    "\n",
    "    title.delete('1.0','end')\n",
    "    title.insert('1.0',article.title)\n",
    "\n",
    "    author.delete('1.0', 'end')\n",
    "    author.insert('1.0', article.authors)\n",
    "\n",
    "    publication.delete('1.0', 'end')\n",
    "    publication.insert('1.0', article.publish_date)\n",
    "\n",
    "    summary.delete('1.0', 'end')\n",
    "    summary.insert('1.0', article.summary)\n",
    "\n",
    "    sentiment.delete('1.0', 'end')\n",
    "    analysis = TextBlob(article.text)\n",
    "\n",
    "    if analysis.polarity > 0:\n",
    "        sentiment.insert('1.0', \"Positive\")\n",
    "\n",
    "    elif analysis.polarity < 0: \n",
    "        sentiment.insert('1.0', \"Negative\")\n",
    "\n",
    "    else:\n",
    "        sentiment.insert('1.0','Neutral')\n",
    "\n",
    "    title.config(state = 'disabled')\n",
    "\n",
    "    author.config(state = 'disabled')\n",
    "    publication.config(state = 'disabled')\n",
    "    summary.config(state = 'disabled')\n",
    "    sentiment.config(state = 'disabled')\n",
    "    "
   ]
  },
  {
   "cell_type": "code",
   "execution_count": null,
   "id": "9c8a1740-3911-4e27-924b-789505bc29ca",
   "metadata": {},
   "outputs": [
    {
     "name": "stderr",
     "output_type": "stream",
     "text": [
      "Exception in Tkinter callback\n",
      "Traceback (most recent call last):\n",
      "  File \"C:\\Python312\\Lib\\tkinter\\__init__.py\", line 1968, in __call__\n",
      "    return self.func(*args)\n",
      "           ^^^^^^^^^^^^^^^^\n",
      "  File \"C:\\Users\\aryan\\AppData\\Local\\Temp\\ipykernel_13720\\4243265972.py\", line 21, in summarize\n",
      "    publication.insert('1.0', article.publish_date)\n",
      "  File \"C:\\Python312\\Lib\\tkinter\\__init__.py\", line 3842, in insert\n",
      "    self.tk.call((self._w, 'insert', index, chars) + args)\n",
      "_tkinter.TclError: wrong # args: should be \".!text3 insert index chars ?tagList chars tagList ...?\"\n",
      "Exception in Tkinter callback\n",
      "Traceback (most recent call last):\n",
      "  File \"C:\\Python312\\Lib\\tkinter\\__init__.py\", line 1968, in __call__\n",
      "    return self.func(*args)\n",
      "           ^^^^^^^^^^^^^^^^\n",
      "  File \"C:\\Users\\aryan\\AppData\\Local\\Temp\\ipykernel_13720\\4243265972.py\", line 21, in summarize\n",
      "    publication.insert('1.0', article.publish_date)\n",
      "  File \"C:\\Python312\\Lib\\tkinter\\__init__.py\", line 3842, in insert\n",
      "    self.tk.call((self._w, 'insert', index, chars) + args)\n",
      "_tkinter.TclError: wrong # args: should be \".!text3 insert index chars ?tagList chars tagList ...?\"\n",
      "Exception in Tkinter callback\n",
      "Traceback (most recent call last):\n",
      "  File \"C:\\Python312\\Lib\\tkinter\\__init__.py\", line 1968, in __call__\n",
      "    return self.func(*args)\n",
      "           ^^^^^^^^^^^^^^^^\n",
      "  File \"C:\\Users\\aryan\\AppData\\Local\\Temp\\ipykernel_13720\\4243265972.py\", line 21, in summarize\n",
      "    publication.insert('1.0', article.publish_date)\n",
      "  File \"C:\\Python312\\Lib\\tkinter\\__init__.py\", line 3842, in insert\n",
      "    self.tk.call((self._w, 'insert', index, chars) + args)\n",
      "_tkinter.TclError: wrong # args: should be \".!text3 insert index chars ?tagList chars tagList ...?\"\n",
      "Exception in Tkinter callback\n",
      "Traceback (most recent call last):\n",
      "  File \"C:\\Python312\\Lib\\tkinter\\__init__.py\", line 1968, in __call__\n",
      "    return self.func(*args)\n",
      "           ^^^^^^^^^^^^^^^^\n",
      "  File \"C:\\Users\\aryan\\AppData\\Local\\Temp\\ipykernel_13720\\4243265972.py\", line 21, in summarize\n",
      "    publication.insert('1.0', article.publish_date)\n",
      "  File \"C:\\Python312\\Lib\\tkinter\\__init__.py\", line 3842, in insert\n",
      "    self.tk.call((self._w, 'insert', index, chars) + args)\n",
      "_tkinter.TclError: wrong # args: should be \".!text3 insert index chars ?tagList chars tagList ...?\"\n",
      "Exception in Tkinter callback\n",
      "Traceback (most recent call last):\n",
      "  File \"C:\\Python312\\Lib\\tkinter\\__init__.py\", line 1968, in __call__\n",
      "    return self.func(*args)\n",
      "           ^^^^^^^^^^^^^^^^\n",
      "  File \"C:\\Users\\aryan\\AppData\\Local\\Temp\\ipykernel_13720\\4243265972.py\", line 21, in summarize\n",
      "    publication.insert('1.0', article.publish_date)\n",
      "  File \"C:\\Python312\\Lib\\tkinter\\__init__.py\", line 3842, in insert\n",
      "    self.tk.call((self._w, 'insert', index, chars) + args)\n",
      "_tkinter.TclError: wrong # args: should be \".!text3 insert index chars ?tagList chars tagList ...?\"\n",
      "Exception in Tkinter callback\n",
      "Traceback (most recent call last):\n",
      "  File \"C:\\Python312\\Lib\\tkinter\\__init__.py\", line 1968, in __call__\n",
      "    return self.func(*args)\n",
      "           ^^^^^^^^^^^^^^^^\n",
      "  File \"C:\\Users\\aryan\\AppData\\Local\\Temp\\ipykernel_13720\\4243265972.py\", line 21, in summarize\n",
      "    publication.insert('1.0', article.publish_date)\n",
      "  File \"C:\\Python312\\Lib\\tkinter\\__init__.py\", line 3842, in insert\n",
      "    self.tk.call((self._w, 'insert', index, chars) + args)\n",
      "_tkinter.TclError: wrong # args: should be \".!text3 insert index chars ?tagList chars tagList ...?\"\n",
      "Exception in Tkinter callback\n",
      "Traceback (most recent call last):\n",
      "  File \"C:\\Python312\\Lib\\tkinter\\__init__.py\", line 1968, in __call__\n",
      "    return self.func(*args)\n",
      "           ^^^^^^^^^^^^^^^^\n",
      "  File \"C:\\Users\\aryan\\AppData\\Local\\Temp\\ipykernel_13720\\4243265972.py\", line 21, in summarize\n",
      "    publication.insert('1.0', article.publish_date)\n",
      "  File \"C:\\Python312\\Lib\\tkinter\\__init__.py\", line 3842, in insert\n",
      "    self.tk.call((self._w, 'insert', index, chars) + args)\n",
      "_tkinter.TclError: wrong # args: should be \".!text3 insert index chars ?tagList chars tagList ...?\"\n"
     ]
    }
   ],
   "source": [
    "root = tk.Tk()\n",
    "\n",
    "root.title(\"Article Summarizer\")\n",
    "\n",
    "root.geometry('1200x600')\n",
    "\n",
    "tlabel = tk. Label (root, text=\"Title\")\n",
    "\n",
    "tlabel.pack()\n",
    "\n",
    "title= tk.Text(root, height=1, width=140)\n",
    "\n",
    "title.config(state='disabled', bg='#dddddd')\n",
    "\n",
    "title.pack()\n",
    "\n",
    "alabel = tk. Label(root, text=\"Author\")\n",
    "\n",
    "alabel.pack()\n",
    "\n",
    "author= tk.Text(root, height=1, width=140)\n",
    "\n",
    "author.config(state='disabled', bg='#dddddd')\n",
    "\n",
    "author.pack()\n",
    "\n",
    "plabel = tk.Label(root, text=\"Publishing Date\")\n",
    "\n",
    "plabel.pack()\n",
    "\n",
    "publication = tk. Text(root, height=1, width=140)\n",
    "\n",
    "publication.config(state='disabled', bg='#dddddd')\n",
    "\n",
    "publication.pack()\n",
    "\n",
    "slabel = tk. Label (root, text=\"Summary\")\n",
    "\n",
    "slabel.pack()\n",
    "\n",
    "summary = tk. Text(root, height=20, width=140)\n",
    "\n",
    "summary.config(state='disabled',bg='#dddddd')\n",
    "\n",
    "summary.pack()\n",
    "\n",
    "selabel = tk. Label (root, text=\"Sentiment Analysis\")\n",
    "\n",
    "selabel.pack()\n",
    "\n",
    "sentiment = tk. Text (root, height=1, width=140) \n",
    "\n",
    "sentiment.config(state='disabled', bg='#dddddd')\n",
    "\n",
    "sentiment.pack()\n",
    "\n",
    "ulabel = tk.Label (root, text=\"URL\")\n",
    "\n",
    "ulabel.pack()\n",
    "\n",
    "utext = tk.Text(root, height=1, width=140)\n",
    "\n",
    "utext.pack()\n",
    "\n",
    "btn = tk.Button(root, text=\"Summarize\", command = summarize)\n",
    "\n",
    "btn.pack()\n",
    "\n",
    "root.mainloop()\n"
   ]
  },
  {
   "cell_type": "code",
   "execution_count": null,
   "id": "1bef30ee-9f0e-48d5-b6e3-3219a5dc039f",
   "metadata": {},
   "outputs": [],
   "source": []
  }
 ],
 "metadata": {
  "kernelspec": {
   "display_name": "Python 3 (ipykernel)",
   "language": "python",
   "name": "python3"
  },
  "language_info": {
   "codemirror_mode": {
    "name": "ipython",
    "version": 3
   },
   "file_extension": ".py",
   "mimetype": "text/x-python",
   "name": "python",
   "nbconvert_exporter": "python",
   "pygments_lexer": "ipython3",
   "version": "3.12.4"
  }
 },
 "nbformat": 4,
 "nbformat_minor": 5
}
